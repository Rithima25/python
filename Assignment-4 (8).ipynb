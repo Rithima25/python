{
 "cells": [
  {
   "cell_type": "code",
   "execution_count": 1,
   "id": "198f8670",
   "metadata": {},
   "outputs": [
    {
     "name": "stdout",
     "output_type": "stream",
     "text": [
      "1\n",
      "2\n",
      "3\n",
      "4\n",
      "5\n",
      "6\n"
     ]
    }
   ],
   "source": [
    "#1)Write a Python program to loop through all the elements in a list\n",
    "x=[1,2,3,4,5,6]\n",
    "z=1\n",
    "while z<=len(x):\n",
    "    print(z)\n",
    "    z=z+1"
   ]
  },
  {
   "cell_type": "code",
   "execution_count": 1,
   "id": "06e27122",
   "metadata": {},
   "outputs": [
    {
     "data": {
      "text/plain": [
       "[1, 3, 5, 7]"
      ]
     },
     "execution_count": 1,
     "metadata": {},
     "output_type": "execute_result"
    }
   ],
   "source": [
    "#3. Write a Python program to remove all the odd index value from a list and only even index elements should remain\n",
    "l=[1,2,3,4,5,6,7]\n",
    "l[::2]"
   ]
  },
  {
   "cell_type": "code",
   "execution_count": 2,
   "id": "84b94af1",
   "metadata": {},
   "outputs": [
    {
     "name": "stdout",
     "output_type": "stream",
     "text": [
      "minimum value is: -123\n",
      "maximum number is: 89\n"
     ]
    }
   ],
   "source": [
    "#5) Write a Python program to get the maximum and minimum numbers from a list\n",
    "y=[45,-23,89,-123,67]\n",
    "y.sort()\n",
    "print(\"minimum value is:\",y[0])\n",
    "print(\"maximum number is:\",y[-1])"
   ]
  },
  {
   "cell_type": "code",
   "execution_count": 3,
   "id": "54d0cf02",
   "metadata": {},
   "outputs": [
    {
     "name": "stdout",
     "output_type": "stream",
     "text": [
      "['Green', 'White', 'Black']\n"
     ]
    }
   ],
   "source": [
    "#6. Write a Python program to print a specified list after removing the 0th, 4th and 5th elements.\n",
    "l=[]\n",
    "x=['Red', 'Green', 'White', 'Black', 'Pink', 'Yellow']\n",
    "\n",
    "for y in range(0,len(x)):\n",
    "    if y!=0 and y!=4 and y!=5:\n",
    "        l.append(x[y])\n",
    "    else:\n",
    "        continue\n",
    "print(l)"
   ]
  },
  {
   "cell_type": "code",
   "execution_count": 4,
   "id": "8df75626",
   "metadata": {},
   "outputs": [
    {
     "name": "stdout",
     "output_type": "stream",
     "text": [
      "a b 1 2 3 "
     ]
    },
    {
     "data": {
      "text/plain": [
       "str"
      ]
     },
     "execution_count": 4,
     "metadata": {},
     "output_type": "execute_result"
    }
   ],
   "source": [
    "#7. Write a Python program to convert a list of characters into a string\n",
    "x=[\"a\",\"b\",1,2,3]\n",
    "for y in x:\n",
    "    print(y,end=\" \")\n",
    "    y=str(y)\n",
    "    \n",
    "type(y)"
   ]
  },
  {
   "cell_type": "code",
   "execution_count": 1,
   "id": "fb549c3c",
   "metadata": {},
   "outputs": [
    {
     "name": "stdout",
     "output_type": "stream",
     "text": [
      "3.0\n"
     ]
    }
   ],
   "source": [
    "#8. Write a Python program to compute average of given lists.\n",
    "l=[1,2,3,4,5]\n",
    "num=len(l)\n",
    "avg=0\n",
    "for x in l:\n",
    "    avg+=x/num\n",
    "print(avg)"
   ]
  },
  {
   "cell_type": "code",
   "execution_count": 2,
   "id": "8f2c57c8",
   "metadata": {},
   "outputs": [
    {
     "data": {
      "text/plain": [
       "[(2+0j), 78.9, '@', 'a', 23]"
      ]
     },
     "execution_count": 2,
     "metadata": {},
     "output_type": "execute_result"
    }
   ],
   "source": [
    "#10. Write a Python program to reverse the list \n",
    "x=[23,\"a\",\"@\",78.9,2+0j]\n",
    "x.reverse()\n",
    "x"
   ]
  },
  {
   "cell_type": "code",
   "execution_count": 3,
   "id": "658b7762",
   "metadata": {},
   "outputs": [
    {
     "name": "stdout",
     "output_type": "stream",
     "text": [
      "('p', 'y', 't', 'h', 'o', 'n', ' ', 'p', 'r', 'o', 'g', 'r', 'a', 'm', 'm', 'i', 'n', 'g', ' ', 'l', 'a', 'n', 'g', 'u', 'n', 'a', 'g', 'e')\n"
     ]
    },
    {
     "data": {
      "text/plain": [
       "tuple"
      ]
     },
     "execution_count": 3,
     "metadata": {},
     "output_type": "execute_result"
    }
   ],
   "source": [
    "#11. Write a Python program convert a given string to a tuple\n",
    "l=[]\n",
    "str1=\"python programming langunage\"\n",
    "for y in str1:\n",
    "    l.append(y)\n",
    "final_result=tuple(l)\n",
    "print(final_result)\n",
    "type(final_result)"
   ]
  },
  {
   "cell_type": "code",
   "execution_count": 4,
   "id": "97923081",
   "metadata": {},
   "outputs": [
    {
     "name": "stdout",
     "output_type": "stream",
     "text": [
      "<class 'str'>\n",
      "<class 'int'>\n",
      "<class 'float'>\n",
      "<class 'int'>\n",
      "<class 'int'>\n",
      "4\n"
     ]
    }
   ],
   "source": [
    "#9. Write a Python program to count integer in a given mixed list.\n",
    "x=[\"a\",21,-19.8,34,56]\n",
    "count=0\n",
    "for y in x:\n",
    "    print(type(y))\n",
    "    if type(y)==int or type(y)==float:\n",
    "        count+=1\n",
    "        \n",
    "print(count) "
   ]
  },
  {
   "cell_type": "code",
   "execution_count": null,
   "id": "75a2e2b2",
   "metadata": {},
   "outputs": [],
   "source": []
  },
  {
   "cell_type": "code",
   "execution_count": null,
   "id": "20192e9b",
   "metadata": {},
   "outputs": [],
   "source": []
  }
 ],
 "metadata": {
  "kernelspec": {
   "display_name": "Python 3 (ipykernel)",
   "language": "python",
   "name": "python3"
  },
  "language_info": {
   "codemirror_mode": {
    "name": "ipython",
    "version": 3
   },
   "file_extension": ".py",
   "mimetype": "text/x-python",
   "name": "python",
   "nbconvert_exporter": "python",
   "pygments_lexer": "ipython3",
   "version": "3.10.9"
  }
 },
 "nbformat": 4,
 "nbformat_minor": 5
}
