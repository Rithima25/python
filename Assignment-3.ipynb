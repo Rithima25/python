{
 "cells": [
  {
   "cell_type": "code",
   "execution_count": 1,
   "id": "5b965586",
   "metadata": {},
   "outputs": [
    {
     "name": "stdout",
     "output_type": "stream",
     "text": [
      "0\n",
      "1\n",
      "2\n",
      "4\n",
      "5\n"
     ]
    }
   ],
   "source": [
    "#1) Write a Python program that prints all the numbers from 0 to 6 except 3 and 6\n",
    "for x in range(0,7):\n",
    "    if x%3==0 and x!=0:\n",
    "        continue\n",
    "    else:\n",
    "        print(x)"
   ]
  },
  {
   "cell_type": "code",
   "execution_count": 2,
   "id": "e728d9c2",
   "metadata": {},
   "outputs": [
    {
     "name": "stdout",
     "output_type": "stream",
     "text": [
      "enter a number:3\n",
      "6\n"
     ]
    }
   ],
   "source": [
    "#2) Write a program to accept a number from a user and calculate the sum of all numbers from 1 to a given number.\n",
    "x=int(input(\"enter a number:\"))\n",
    "a=0\n",
    "for x in range(0,1+x):\n",
    "    a+=x\n",
    "print(a)    "
   ]
  },
  {
   "cell_type": "code",
   "execution_count": 3,
   "id": "ce1b1414",
   "metadata": {},
   "outputs": [
    {
     "name": "stdout",
     "output_type": "stream",
     "text": [
      "which multiplication table do you want:14\n",
      "how many values do you want:14\n",
      "14*1=14\n",
      "14*2=28\n",
      "14*3=42\n",
      "14*4=56\n",
      "14*5=70\n",
      "14*6=84\n",
      "14*7=98\n",
      "14*8=112\n",
      "14*9=126\n",
      "14*10=140\n",
      "14*11=154\n",
      "14*12=168\n",
      "14*13=182\n",
      "14*14=196\n"
     ]
    }
   ],
   "source": [
    "#3) Write a program to print multiplication table of a given number(input).\n",
    "table=int(input(\"which multiplication table do you want:\"))\n",
    "value=int(input(\"how many values do you want:\"))\n",
    "for x in range(1,value+1):\n",
    "    print(\"{}*{}={}\".format(table,x,table*x))"
   ]
  },
  {
   "cell_type": "code",
   "execution_count": 4,
   "id": "b24fedef",
   "metadata": {},
   "outputs": [
    {
     "name": "stdout",
     "output_type": "stream",
     "text": [
      "enter a string:256\n",
      "3\n"
     ]
    }
   ],
   "source": [
    "#4) Write a program to count the total number of digits in a number using a while loop. For example, the number is 75869, so the output should be 5\n",
    "x=input(\"enter a string:\")\n",
    "y=0\n",
    "while y<len(x):\n",
    "    y+=1\n",
    "print(y)    "
   ]
  },
  {
   "cell_type": "code",
   "execution_count": 5,
   "id": "02cac1d4",
   "metadata": {},
   "outputs": [
    {
     "name": "stdout",
     "output_type": "stream",
     "text": [
      "1\n",
      "2\n",
      "Fizz\n",
      "4\n",
      "Buzz\n",
      "Fizz\n",
      "7\n",
      "8\n",
      "Fizz\n",
      "Buzz\n",
      "11\n",
      "Fizz\n",
      "13\n",
      "14\n",
      "FizzBuzz\n",
      "16\n",
      "17\n",
      "Fizz\n",
      "19\n",
      "Buzz\n",
      "Fizz\n",
      "22\n",
      "23\n",
      "Fizz\n",
      "Buzz\n",
      "26\n",
      "Fizz\n",
      "28\n",
      "29\n",
      "FizzBuzz\n",
      "31\n",
      "32\n",
      "Fizz\n",
      "34\n",
      "Buzz\n",
      "Fizz\n",
      "37\n",
      "38\n",
      "Fizz\n",
      "Buzz\n",
      "41\n",
      "Fizz\n",
      "43\n",
      "44\n",
      "FizzBuzz\n",
      "46\n",
      "47\n",
      "Fizz\n",
      "49\n",
      "Buzz\n",
      "Fizz\n",
      "52\n",
      "53\n",
      "Fizz\n",
      "Buzz\n",
      "56\n",
      "Fizz\n",
      "58\n",
      "59\n",
      "FizzBuzz\n"
     ]
    }
   ],
   "source": [
    "#6) Write a Python program which iterates the integers from 1 to 60. For multiples of three print \"Fizz\" instead of the umber and for the multiples of five print \"Buzz\". For numbers which are multiples of both three and five print \"FizzBuzz\".\n",
    "x=1\n",
    "while x<=60:\n",
    "    if x%3==0 and x%5==0:\n",
    "        print(\"FizzBuzz\")\n",
    "    elif x%5==0:\n",
    "        print(\"Buzz\")\n",
    "    elif x%3==0:\n",
    "        print(\"Fizz\")\n",
    "    else:\n",
    "        print(x)\n",
    "    x=x+1    "
   ]
  },
  {
   "cell_type": "code",
   "execution_count": 6,
   "id": "98026b30",
   "metadata": {},
   "outputs": [
    {
     "name": "stdout",
     "output_type": "stream",
     "text": [
      "enter a string:RT25L\n",
      "letters: 3 \n",
      " digits: 2\n"
     ]
    }
   ],
   "source": [
    "#7) Write a Python program that accepts a string and calculate the number of digits and letters.\n",
    "x=input(\"enter a string:\")\n",
    "y=0\n",
    "count=0\n",
    "for z in range(0,len(x)):\n",
    "    if x[z].isalpha():\n",
    "        y+=1\n",
    "    else:\n",
    "        x[z].isdigit()\n",
    "        count+=1\n",
    "print(\"letters:\",y,\"\\n\",\"digits:\",count)        "
   ]
  },
  {
   "cell_type": "code",
   "execution_count": 4,
   "id": "04f28b04",
   "metadata": {},
   "outputs": [
    {
     "name": "stdout",
     "output_type": "stream",
     "text": [
      "enter a password:rith@25\n",
      "valid password\n"
     ]
    }
   ],
   "source": [
    "8#) Write a Python program to check the validity of password input by users. Validation:At least 1 letter between [a-z] and 1 letter between [A-Z].\n",
    "x=input(\"enter a password:\")\n",
    "for y in range(0,len(x)):\n",
    "    if x[y].islower() and x[y].isupper() and x[y].isdigit() and x[y]==\"$\" and x[y]==\"#\" and x[y]==\"@\":\n",
    "        a+=1\n",
    "    else:\n",
    "        break\n",
    "if 6<=len(x)<16:\n",
    "    print(\"valid password\")\n",
    "else:\n",
    "    print(\"invalid password\")"
   ]
  },
  {
   "cell_type": "code",
   "execution_count": 5,
   "id": "fd7cf1f6",
   "metadata": {},
   "outputs": [
    {
     "name": "stdout",
     "output_type": "stream",
     "text": [
      "enter a string:flower\n",
      "rewolf\n"
     ]
    }
   ],
   "source": [
    "#9) Write a program in Python to reverse a word by using while loop.\n",
    "x=input(\"enter a string:\")\n",
    "b=\"\"\n",
    "y=1\n",
    "while y<len(x)+1:\n",
    "    b+=x[-y]\n",
    "    y+=1\n",
    "print(b)    "
   ]
  },
  {
   "cell_type": "code",
   "execution_count": 7,
   "id": "2e70027a",
   "metadata": {},
   "outputs": [
    {
     "name": "stdout",
     "output_type": "stream",
     "text": [
      "enter a number:3\n",
      "enter a number:6\n",
      "enter a number:8\n",
      "enter a number:7\n",
      "enter a number:2\n",
      "enter a number:4\n",
      "enter a number:1\n",
      "enter a number:5\n",
      "enter a number:7\n",
      "enter a number:3\n",
      "average: 4.6\n"
     ]
    }
   ],
   "source": [
    "#10) Write a program which takes 10 integers as input using loop and print their average value on the screen.\n",
    "avg=0\n",
    "for y in range(0,10):\n",
    "    x=int(input(\"enter a number:\"))\n",
    "    avg+=x/10\n",
    "print(\"average:\",avg)    "
   ]
  },
  {
   "cell_type": "code",
   "execution_count": 8,
   "id": "d09b6946",
   "metadata": {},
   "outputs": [
    {
     "name": "stdout",
     "output_type": "stream",
     "text": [
      "enter a string:256@$cute!\n",
      "cute"
     ]
    }
   ],
   "source": [
    "#12) Write a Python program which will remove all digits or any other characters from the string except alphabets.\n",
    "x=input(\"enter a string:\")\n",
    "a=\"\"\n",
    "for z in range(0,len(x)):\n",
    "    if x[z].isalpha():\n",
    "        print(x[z],end=\"\")\n",
    "    else:\n",
    "        continue"
   ]
  },
  {
   "cell_type": "code",
   "execution_count": 9,
   "id": "8498df07",
   "metadata": {},
   "outputs": [
    {
     "name": "stdout",
     "output_type": "stream",
     "text": [
      "20\n"
     ]
    }
   ],
   "source": [
    "#13) Write a python program to find the sum of all even numbers from 0 to 10\n",
    "sum1=0\n",
    "for y in range(0,10):\n",
    "    if y%2==0:\n",
    "        sum1=sum1+y\n",
    "    else:\n",
    "        continue\n",
    "print(sum1)        "
   ]
  },
  {
   "cell_type": "code",
   "execution_count": null,
   "id": "d7005ea9",
   "metadata": {},
   "outputs": [],
   "source": []
  }
 ],
 "metadata": {
  "kernelspec": {
   "display_name": "Python 3 (ipykernel)",
   "language": "python",
   "name": "python3"
  },
  "language_info": {
   "codemirror_mode": {
    "name": "ipython",
    "version": 3
   },
   "file_extension": ".py",
   "mimetype": "text/x-python",
   "name": "python",
   "nbconvert_exporter": "python",
   "pygments_lexer": "ipython3",
   "version": "3.10.9"
  }
 },
 "nbformat": 4,
 "nbformat_minor": 5
}
