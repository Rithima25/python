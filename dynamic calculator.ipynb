{
 "cells": [
  {
   "cell_type": "code",
   "execution_count": 4,
   "id": "eca13af5",
   "metadata": {},
   "outputs": [
    {
     "name": "stdout",
     "output_type": "stream",
     "text": [
      "type yes to start the calculatoryes\n",
      "enter any value2\n",
      "enter an operator+\n",
      "enter any value3\n",
      "5\n",
      "if you want to continue press y/n:yes\n",
      "enter any value3\n",
      "enter an operator*\n",
      "enter any value2\n",
      "6\n",
      "if you wanr to continue press y/n:n\n"
     ]
    }
   ],
   "source": [
    "var=input(\"type yes to start the calculator\")\n",
    "while var==\"yes\":\n",
    "    a=int(input(\"enter any value\"))\n",
    "    c=input(\"enter an operator\")\n",
    "    b=int(input(\"enter any value\"))\n",
    "    if c==\"+\":\n",
    "        print(a+b)\n",
    "        y=input(\"if you want to continue press y/n:\")\n",
    "    elif c==\"-\":\n",
    "        print(a-b)\n",
    "        y=input(\"if you want to continue press y/n:\")\n",
    "    elif c==\"*\":\n",
    "        print(a*b)\n",
    "        y=input(\"if you wanr to continue press y/n:\")\n",
    "    elif c==\"/\":\n",
    "        print(a/b)\n",
    "        y=input(\"if you want to continue press y/n:\")\n",
    "    elif c==\"//\":\n",
    "        print(a//b)\n",
    "        y=input(\"if you want to continue press y/n:\")\n",
    "    elif c==\"**\":\n",
    "        print(a**b)\n",
    "        y=input(\"if you want to continue press y/n:\")\n",
    "    elif c==\"%\":\n",
    "        print(a%b)\n",
    "        y=input(\"if you want to continue press y/n:\")\n",
    "    else:\n",
    "        print(\"invalid\")\n",
    "    if y==\"n\":\n",
    "        break\n",
    "    else:    \n",
    "        continue\n",
    "            \n",
    "        "
   ]
  },
  {
   "cell_type": "code",
   "execution_count": null,
   "id": "8a1e37b8",
   "metadata": {},
   "outputs": [],
   "source": []
  },
  {
   "cell_type": "code",
   "execution_count": null,
   "id": "11161fae",
   "metadata": {},
   "outputs": [],
   "source": []
  }
 ],
 "metadata": {
  "kernelspec": {
   "display_name": "Python 3 (ipykernel)",
   "language": "python",
   "name": "python3"
  },
  "language_info": {
   "codemirror_mode": {
    "name": "ipython",
    "version": 3
   },
   "file_extension": ".py",
   "mimetype": "text/x-python",
   "name": "python",
   "nbconvert_exporter": "python",
   "pygments_lexer": "ipython3",
   "version": "3.10.9"
  }
 },
 "nbformat": 4,
 "nbformat_minor": 5
}
