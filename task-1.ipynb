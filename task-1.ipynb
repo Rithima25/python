{
 "cells": [
  {
   "cell_type": "code",
   "execution_count": 8,
   "id": "014da65c",
   "metadata": {},
   "outputs": [
    {
     "name": "stdout",
     "output_type": "stream",
     "text": [
      "enter a stringRTLLA\n",
      "rtlla\n"
     ]
    }
   ],
   "source": [
    "#1)Write a python program to convert a string to lower case.\n",
    "x=input(\"enter a string\")\n",
    "for z in x:\n",
    "    x=x.lower()\n",
    "print(x)    \n"
   ]
  },
  {
   "cell_type": "code",
   "execution_count": 16,
   "id": "582fe056",
   "metadata": {},
   "outputs": [
    {
     "name": "stdout",
     "output_type": "stream",
     "text": [
      "enter a stringRTLLA\n",
      "RtLlA\n"
     ]
    }
   ],
   "source": [
    "#2)Write a python program to convert only odd indexed characters to lower case.\n",
    "x=input(\"enter a string:\")\n",
    "z=list(x)\n",
    "y=0;a=\"\"\n",
    "while y<len(x):\n",
    "    if y%2!=0:\n",
    "        z[y]=z[y].lower()\n",
    "    a+=str(z[y])\n",
    "    y+=1\n",
    "print(a)"
   ]
  },
  {
   "cell_type": "code",
   "execution_count": 17,
   "id": "36e581f6",
   "metadata": {},
   "outputs": [
    {
     "name": "stdout",
     "output_type": "stream",
     "text": [
      "enter a stringRTLLA\n",
      "rTlLa\n"
     ]
    }
   ],
   "source": [
    "#3)Write a python program to convert only even indexed characters to lower case.\n",
    "x=input(\"enter a string:\")\n",
    "z=list(x)\n",
    "y=0;a=\"\"\n",
    "while y<len(x):\n",
    "    if y%2==0:\n",
    "        z[y]=z[y].lower()\n",
    "    a+=str(z[y])\n",
    "    y+=1\n",
    "print(a)    "
   ]
  },
  {
   "cell_type": "code",
   "execution_count": 22,
   "id": "634e14f3",
   "metadata": {},
   "outputs": [
    {
     "name": "stdout",
     "output_type": "stream",
     "text": [
      "enter a stringtatajk\n",
      "tAtAjK\n"
     ]
    }
   ],
   "source": [
    "#4)Write a python program to convert only odd indexed characters to upper case.\n",
    "x=input(\"enter a string:\")\n",
    "z=list(x)\n",
    "y=0;a=\"\"\n",
    "while y<len(x):\n",
    "    if y%2!=0:\n",
    "        z[y]=z[y].upper()\n",
    "    a+=str(z[y])\n",
    "    y+=1\n",
    "print(a)    \n",
    "    "
   ]
  },
  {
   "cell_type": "code",
   "execution_count": 23,
   "id": "84d9e4eb",
   "metadata": {},
   "outputs": [
    {
     "name": "stdout",
     "output_type": "stream",
     "text": [
      "enter a string:tatajk\n",
      "TaTaJk\n"
     ]
    }
   ],
   "source": [
    "#5)Write a python program to convert only even indexed characters to upper case.\n",
    "x=input(\"enter a string:\")\n",
    "z=list(x)\n",
    "y=0;a=\"\"\n",
    "while y<len(x):\n",
    "    if y%2==0:\n",
    "        z[y]=z[y].upper()\n",
    "    a+=str(z[y])\n",
    "    y+=1\n",
    "print(a)    \n",
    "    "
   ]
  },
  {
   "cell_type": "code",
   "execution_count": 6,
   "id": "4c9a3c6c",
   "metadata": {},
   "outputs": [
    {
     "name": "stdout",
     "output_type": "stream",
     "text": [
      "enter your name:rithima\n",
      "enter your sex:female\n",
      "enter your age:23\n",
      "enter your phoneno:10987654321\n",
      "enter your father's name:elisha rao\n",
      "enter your mother's namesantha kumari\n",
      "my name isrithima,my sex isfemale,my age is23,my phoneno is10987654321,my father's name iselisha rao,my mother's name issantha kumari \n"
     ]
    }
   ],
   "source": [
    "#6)Write a python program where you have different variable which contains your name ,sex,age, phone no ,fathers name and mothers name.And by using this variable create a\n",
    "name=input(\"enter your name:\")\n",
    "sex=input(\"enter your sex:\")\n",
    "age=int(input(\"enter your age:\"))\n",
    "phoneno=input(\"enter your phoneno:\")\n",
    "fathersname=input(\"enter your father's name:\")\n",
    "mothersname=input(\"enter your mother's name\")\n",
    "bio_data=\"my name is{},my sex is{},my age is{},my phoneno is{},my father's name is{},my mother's name is{} \"\n",
    "print(bio_data.format(name,sex,age,phoneno,fathersname,mothersname))"
   ]
  },
  {
   "cell_type": "code",
   "execution_count": 8,
   "id": "0f6b89d3",
   "metadata": {},
   "outputs": [
    {
     "data": {
      "text/plain": [
       "3"
      ]
     },
     "execution_count": 8,
     "metadata": {},
     "output_type": "execute_result"
    }
   ],
   "source": [
    "#7)Write a python program to count how many times “@” occurred.\n",
    "x=\"RT@LL@AB@\"\n",
    "x.count(\"@\")"
   ]
  },
  {
   "cell_type": "code",
   "execution_count": 11,
   "id": "3280d268",
   "metadata": {},
   "outputs": [
    {
     "data": {
      "text/plain": [
       "('rithima', ',monika', ',sweety')"
      ]
     },
     "execution_count": 11,
     "metadata": {},
     "output_type": "execute_result"
    }
   ],
   "source": [
    "#8)Write a python program to get only names from the string “name1.@gmail.com,name2.@gmail.com,name3.@gmail.com”Output-name1,name2,name\n",
    "x=\"rithima@gamil.com,monika@gamil.com,sweety@gamil.com\"\n",
    "x[0:7],x[17:24],x[34:41]"
   ]
  },
  {
   "cell_type": "code",
   "execution_count": 12,
   "id": "379183f6",
   "metadata": {},
   "outputs": [
    {
     "data": {
      "text/plain": [
       "'mei'"
      ]
     },
     "execution_count": 12,
     "metadata": {},
     "output_type": "execute_result"
    }
   ],
   "source": [
    "#9)Given a string of odd length greater that 9, return a new string made of the middle three characters of a given String.Ex:- “mynameissan\n",
    "x=\"mynameissan\"\n",
    "x[4:7]"
   ]
  },
  {
   "cell_type": "code",
   "execution_count": 13,
   "id": "2e3624c0",
   "metadata": {},
   "outputs": [
    {
     "data": {
      "text/plain": [
       "'msayn'"
      ]
     },
     "execution_count": 13,
     "metadata": {},
     "output_type": "execute_result"
    }
   ],
   "source": [
    "#10) Write a python program to insert a 2 string in the middle of 1 stringEx:-Str1=”myn” Str2=”sa”.\n",
    "str1=\"myn\"\n",
    "str2=\"sa\"\n",
    "str1[0]+str2[0:]+str1[1:]"
   ]
  },
  {
   "cell_type": "code",
   "execution_count": 3,
   "id": "a34b69e8",
   "metadata": {},
   "outputs": [
    {
     "name": "stdout",
     "output_type": "stream",
     "text": [
      "give a stringrithima\n",
      "rthm\n"
     ]
    }
   ],
   "source": [
    "#11) Write a program to remove vowels from the entire alphabets Ex:- “abcdefghijklmnopqrstuvwxyz”Output:- “bcdfghjklmnpqrstvwxyz\n",
    "x=input(\"give a string\")\n",
    "a=\"\"\n",
    "for z in range(0,len(x)):\n",
    "    if x[z]==\"a\" or x[z]==\"e\" or x[z]==\"i\" or x[z]==\"o\" or  x[z]==\"A\" or x[z]==\"E\" or x[z]==\"I\" or x[z]==\"O\" or x[z]==\"U\":\n",
    "        a+=\"\"\n",
    "    else:\n",
    "         a+=x[z]\n",
    "print(a)               \n",
    "               \n",
    "               \n",
    "               "
   ]
  },
  {
   "cell_type": "code",
   "execution_count": null,
   "id": "8490044b",
   "metadata": {},
   "outputs": [],
   "source": []
  }
 ],
 "metadata": {
  "kernelspec": {
   "display_name": "Python 3 (ipykernel)",
   "language": "python",
   "name": "python3"
  },
  "language_info": {
   "codemirror_mode": {
    "name": "ipython",
    "version": 3
   },
   "file_extension": ".py",
   "mimetype": "text/x-python",
   "name": "python",
   "nbconvert_exporter": "python",
   "pygments_lexer": "ipython3",
   "version": "3.10.9"
  }
 },
 "nbformat": 4,
 "nbformat_minor": 5
}
