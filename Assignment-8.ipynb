{
 "cells": [
  {
   "cell_type": "code",
   "execution_count": 1,
   "id": "792863a1",
   "metadata": {},
   "outputs": [],
   "source": [
    "#1 Create a function that takes a boolean variable flag and returns it as a string.\n",
    "#Examples\n",
    "#bool_to_string(True) ➞ \"True\"\n",
    "#bool_to_string(False) ➞ \"False\"\n",
    "def bool_to_string(flag):\n",
    "    return flag"
   ]
  },
  {
   "cell_type": "code",
   "execution_count": 2,
   "id": "10a62266",
   "metadata": {},
   "outputs": [
    {
     "data": {
      "text/plain": [
       "'True'"
      ]
     },
     "execution_count": 2,
     "metadata": {},
     "output_type": "execute_result"
    }
   ],
   "source": [
    "a=\"True\"\n",
    "b=bool_to_string(a)\n",
    "str(b)"
   ]
  },
  {
   "cell_type": "code",
   "execution_count": 3,
   "id": "c35f9dbf",
   "metadata": {},
   "outputs": [],
   "source": [
    "#2 Create a function that returns True when num1 is equal to num2; otherwise return False.\n",
    "#Examples\n",
    "#is_same_num(4, 8) ➞ False\n",
    "#is_same_num(2, 2) ➞  True\n",
    "#is_same_num(2, \"2\") ➞ False\n",
    "\n",
    "def f1(num1,num2):\n",
    "    if num1==num2:\n",
    "        return \"True\"\n",
    "    else:\n",
    "        return \"False\"\n",
    "    "
   ]
  },
  {
   "cell_type": "code",
   "execution_count": 4,
   "id": "9ca1a668",
   "metadata": {},
   "outputs": [
    {
     "name": "stdout",
     "output_type": "stream",
     "text": [
      "False\n",
      "True\n"
     ]
    }
   ],
   "source": [
    "print(f1(3,\"3\"))\n",
    "print(f1(3,3))"
   ]
  },
  {
   "cell_type": "code",
   "execution_count": 5,
   "id": "373b5ff3",
   "metadata": {},
   "outputs": [],
   "source": [
    "#3 Create a function that takes a number as its only argument and returns True if it's less than or equal to zero, otherwise return False.\n",
    "#Examples\n",
    "#less_than_or_equal_to_zero(5) ➞ False\n",
    "#less_than_or_equal_to_zero(0) ➞ True\n",
    "#less_than_or_equal_to_zero(-2) ➞ True\n",
    " \n",
    "def f2(num):\n",
    "    return num<=0"
   ]
  },
  {
   "cell_type": "code",
   "execution_count": 6,
   "id": "9b9a3390",
   "metadata": {},
   "outputs": [
    {
     "name": "stdout",
     "output_type": "stream",
     "text": [
      "True\n",
      "False\n"
     ]
    }
   ],
   "source": [
    "print(f2(-3))\n",
    "print(f2(5))"
   ]
  },
  {
   "cell_type": "code",
   "execution_count": 7,
   "id": "73127f50",
   "metadata": {},
   "outputs": [],
   "source": [
    "#4 Emmy has written a function that returns a greeting to users. However, she's in love with Mubashir, and would like to greet him slightly differently. She added a special case in her function, but she made a mistake. Can you help her?\n",
    "#Examples\n",
    "#greeting(\"Matt\") ➞ \"Hello, Matt!\"\n",
    "#greeting(\"Helen\") ➞ \"Hello, Helen!\"\n",
    "#greeting(\"Mubashir\") ➞ \"Hello, my Love!\"\n",
    "\n",
    "def greeting(name):\n",
    "    if name==\"Mubashir\":\n",
    "        return \"Hello, my love\"\n",
    "    else:\n",
    "        return \"Hello, \"+name+\"!\""
   ]
  },
  {
   "cell_type": "code",
   "execution_count": 8,
   "id": "a1230913",
   "metadata": {},
   "outputs": [
    {
     "name": "stdout",
     "output_type": "stream",
     "text": [
      "Hello, Matt!\n",
      "Hello, Helen!\n",
      "Hello, my love\n"
     ]
    }
   ],
   "source": [
    "print(greeting(\"Matt\"))\n",
    "print(greeting(\"Helen\"))\n",
    "print(greeting(\"Mubashir\"))"
   ]
  },
  {
   "cell_type": "code",
   "execution_count": 9,
   "id": "b62ade38",
   "metadata": {},
   "outputs": [],
   "source": [
    "#5 Create a function that takes two arguments. Both arguments are integers, a and b. Return True if one of them is 10 or if their sum is 10.\n",
    "#Examples\n",
    "#makes10(9, 10) ➞ True\n",
    "#makes10(9, 9) ➞ False\n",
    "#makes10(1, 9) ➞ True\n",
    "\n",
    "def values(a,b):\n",
    "    if a==10 or b==10 or a+b==10:\n",
    "        return True\n",
    "    else: \n",
    "        return False"
   ]
  },
  {
   "cell_type": "code",
   "execution_count": 10,
   "id": "3d507c4f",
   "metadata": {},
   "outputs": [
    {
     "name": "stdout",
     "output_type": "stream",
     "text": [
      "True\n",
      "False\n"
     ]
    }
   ],
   "source": [
    "print(values(2,8))\n",
    "print(values(1,7))"
   ]
  },
  {
   "cell_type": "code",
   "execution_count": 11,
   "id": "610223ce",
   "metadata": {},
   "outputs": [],
   "source": [
    "#6 Create a function that takes three arguments prob, prize, pay and returns True if prob * prize > pay; otherwise return False.\n",
    "#To illustrate:profitable_gamble(0.2, 50, 9)\n",
    "#... should yield True, since the net profit is 1 (0.2 * 50 - 9), and 1 > 0.\n",
    "\n",
    "def profitable_gamble(prob,prize,pay):\n",
    "    if prob*prize>pay:\n",
    "        return True\n",
    "    else:\n",
    "        return False"
   ]
  },
  {
   "cell_type": "code",
   "execution_count": 12,
   "id": "451e7a12",
   "metadata": {},
   "outputs": [
    {
     "data": {
      "text/plain": [
       "True"
      ]
     },
     "execution_count": 12,
     "metadata": {},
     "output_type": "execute_result"
    }
   ],
   "source": [
    "profitable_gamble(0.2,50,9)"
   ]
  },
  {
   "cell_type": "code",
   "execution_count": 13,
   "id": "d78298ce",
   "metadata": {},
   "outputs": [],
   "source": [
    "#7 Create a function that takes an integer and returns True if it's divisible by 100, otherwise return False.\n",
    "#Examples\n",
    "#divisible(1) ➞ False\n",
    "#divisible(1000) ➞ True\n",
    "#divisible(100) ➞ True\n",
    "\n",
    "def divisible(x):\n",
    "    if x%100==0:\n",
    "        return True\n",
    "    else:\n",
    "        return False"
   ]
  },
  {
   "cell_type": "code",
   "execution_count": 14,
   "id": "6ddb5863",
   "metadata": {},
   "outputs": [
    {
     "name": "stdout",
     "output_type": "stream",
     "text": [
      "True\n",
      "False\n"
     ]
    }
   ],
   "source": [
    "print(divisible(300))\n",
    "print(divisible(345))"
   ]
  },
  {
   "cell_type": "code",
   "execution_count": 15,
   "id": "37b35764",
   "metadata": {},
   "outputs": [],
   "source": [
    "#8 Create a function that takes two strings as arguments and return either True or False depending on whether the total number of characters in the first string is equal to the total number of characters in the second string.\n",
    "#Examples\n",
    "#comp(\"AB\", \"CD\") ➞ True\n",
    "#comp(\"ABC\", \"DE\") ➞ False\n",
    "#comp(\"hello\", \"edabit\") ➞ False\n",
    "\n",
    "def hello(x,y):\n",
    "    if len(x)==len(y):\n",
    "        return True\n",
    "    else:\n",
    "        return False"
   ]
  },
  {
   "cell_type": "code",
   "execution_count": 16,
   "id": "1604661c",
   "metadata": {},
   "outputs": [
    {
     "name": "stdout",
     "output_type": "stream",
     "text": [
      "True\n",
      "False\n"
     ]
    }
   ],
   "source": [
    "print(hello(\"ab\",\"cd\"))\n",
    "print(hello(\"abc\",\"de\"))"
   ]
  },
  {
   "cell_type": "code",
   "execution_count": 17,
   "id": "b4df20b9",
   "metadata": {},
   "outputs": [],
   "source": [
    "#9 Given a string, return True if its length is even or False if the length is odd.\n",
    "#Examples\n",
    "#odd_or_even(\"apples\") ➞ True\n",
    "# The word \"apples\" has 6 characters.\n",
    "# 6 is an even number, so the program outputs True.\n",
    "\n",
    "#odd_or_even(\"pears\") ➞ False\n",
    "# \"pears\" has 5 letters, and 5 is odd.\n",
    "# Therefore the program outputs False.\n",
    "\n",
    "def s(name):\n",
    "    if len(name)%2==0:\n",
    "        return True\n",
    "    else:\n",
    "        return False"
   ]
  },
  {
   "cell_type": "code",
   "execution_count": 18,
   "id": "ba433eaf",
   "metadata": {},
   "outputs": [
    {
     "name": "stdout",
     "output_type": "stream",
     "text": [
      "True\n",
      "False\n"
     ]
    }
   ],
   "source": [
    "print(s(\"varshini\"))\n",
    "print(s(\"tommy\"))"
   ]
  },
  {
   "cell_type": "code",
   "execution_count": 19,
   "id": "f234727e",
   "metadata": {},
   "outputs": [],
   "source": [
    "#10 Create a function that takes a string; we'll say that the front is the first three characters of the string. If the string length is less than three characters, the front is whatever is there. Return a new string, which is three copies of the front.\n",
    "#Examples\n",
    "#front3(\"Python\") ➞ \"PytPytPyt\"\n",
    "#front3(\"Cucumber\") ➞ \"CucCucCuc\"\n",
    "#front3(\"bioshock\") ➞ \"biobiobio\"\n",
    " \n",
    "def string(front):\n",
    "    if len(front)>3:\n",
    "        return (front[:3]*3)\n",
    "    else:\n",
    "        return front"
   ]
  },
  {
   "cell_type": "code",
   "execution_count": 20,
   "id": "5bb3e00b",
   "metadata": {},
   "outputs": [
    {
     "name": "stdout",
     "output_type": "stream",
     "text": [
      "varvarvar\n",
      "cat\n"
     ]
    }
   ],
   "source": [
    "print(string(\"varshini\"))\n",
    "print(string(\"cat\"))"
   ]
  },
  {
   "cell_type": "code",
   "execution_count": 21,
   "id": "cc81a71b",
   "metadata": {},
   "outputs": [],
   "source": [
    "#11 Darts is a target game played by throwing feathered darts at a circular board with numbered spaces. Our darts game is the simplest of all games. The score of a single turn is calculated based on the distance from the middle. You need to create a function that takes the dart location as two cartesian coordinates (x, y) and returns a score based on the distance from the middle, aka Bullseye (x=0, y=0).\n",
    "#Bullseye and inner circle scores = 10 points\n",
    "#Middle ring scores = 5 points\n",
    "#Outer ring scores = 1 point\n",
    "#Outside the target = 0 points\n",
    "#We play it simple so a dart in the double or treble ring counts as usual and does not affect the segment score.\n",
    "#Board and circle radius is as follows:\n",
    "#Board radius and outer circle radius = 10 units\n",
    "#Middle circle radius = 5 units\n",
    "#Inner circle radius = 1 unit\n",
    "#Short Description\n",
    "#Convert cartesian coordinates (x, y) to polar coordinates (R, phi) and return the score based on the R value. R > 10 gives 0 points, 10 >= R > 5 gives 1 point, 5 >= R > 1 gives 5 points, R <= 1 gives 10 points.\n",
    "#Examples\n",
    "#darts_scoring(0, 0) ➞ 10\n",
    "#darts_scoring(3, 2) ➞ 5\n",
    "#darts_scoring(0, -0.8) ➞ 10\n",
    "\n",
    "def game(x, y):\n",
    "    distance = (x ** 2 + y ** 2) ** 0.5\n",
    "    if distance <= 1:\n",
    "        return 10\n",
    "    elif distance <= 5:\n",
    "        return 5\n",
    "    elif distance <= 10:\n",
    "        return 1\n",
    "    else:\n",
    "        return 0"
   ]
  },
  {
   "cell_type": "code",
   "execution_count": 22,
   "id": "d6f4c9c4",
   "metadata": {},
   "outputs": [
    {
     "name": "stdout",
     "output_type": "stream",
     "text": [
      "10\n",
      "5\n",
      "10\n"
     ]
    }
   ],
   "source": [
    "print(game(0,0))\n",
    "print(game(3,2))\n",
    "print(game(0,-0.5)) "
   ]
  },
  {
   "cell_type": "code",
   "execution_count": 24,
   "id": "15264a43",
   "metadata": {},
   "outputs": [],
   "source": [
    "#12 Write a function that returns True if a year is a leap, otherwise return False.\n",
    "#A year is a \"leap year\" if it lasts 366 days, instead of 365 in a typical year. That extra day is added to the end of the shortest month, creating February 29.\n",
    "#A leap year occurs every four years, and will take place if the year is a multiple of four. The exception to this is a year at the beginning of a century (for example, 1900 or 2000), where the year must be divisible by 400 to be a leap year.\n",
    "#Look at the examples, and if you need help, look at the resources panel.\n",
    "#Examples\n",
    "#leap_year(1990) ➞ False\n",
    "#leap_year(1924) ➞ True\n",
    "#leap_year(2021) ➞ False\n",
    "\n",
    "def leap_year(year):\n",
    "    if year % 4 != 0:\n",
    "        return False\n",
    "    elif year % 100 != 0:\n",
    "        return True\n",
    "    elif year % 400 != 0:\n",
    "        return False\n",
    "    else:\n",
    "        return True"
   ]
  },
  {
   "cell_type": "code",
   "execution_count": 25,
   "id": "a6400aed",
   "metadata": {},
   "outputs": [
    {
     "name": "stdout",
     "output_type": "stream",
     "text": [
      "True\n",
      "False\n",
      "False\n"
     ]
    }
   ],
   "source": [
    "print(leap_year(1924))\n",
    "print(leap_year(1990))\n",
    "print(leap_year(2023))"
   ]
  },
  {
   "cell_type": "code",
   "execution_count": 26,
   "id": "bd8d66e8",
   "metadata": {},
   "outputs": [],
   "source": [
    "#13 Create a function that takes an array of hurdle heights and a jumper's jump height, and determine whether or not the hurdler can clear all the hurdles.A hurdler can clear a hurdle if their jump height is greater than or equal to the hurdle height.\n",
    "#Examples\n",
    "#hurdle_jump([1, 2, 3, 4, 5], 5) ➞ True\n",
    "#hurdle_jump([5, 5, 3, 4, 5], 3) ➞ False\n",
    "#hurdle_jump([5, 4, 5, 6], 10) ➞ True\n",
    "#hurdle_jump([1, 2, 1], 1) ➞ False\n",
    "\n",
    "def hurdle_jump(hurdle_heights,jump_height):\n",
    "    for x in hurdle_heights:\n",
    "        if x>jump_height:\n",
    "            return \"False\"\n",
    "       \n",
    "    return \"True\""
   ]
  },
  {
   "cell_type": "code",
   "execution_count": 27,
   "id": "a25b5116",
   "metadata": {},
   "outputs": [
    {
     "name": "stdout",
     "output_type": "stream",
     "text": [
      "True\n",
      "False\n",
      "True\n",
      "False\n"
     ]
    }
   ],
   "source": [
    "print(hurdle_jump([1,2,3,4,5],5))\n",
    "print(hurdle_jump([5,5,3,4,5],3))\n",
    "print(hurdle_jump([5,4,5,6],10))\n",
    "print(hurdle_jump([1,2,1],1))"
   ]
  },
  {
   "cell_type": "code",
   "execution_count": 28,
   "id": "8a09bcab",
   "metadata": {},
   "outputs": [],
   "source": [
    "#14 Create a function that takes a number (from 1 to 12) and returns its corresponding month name as a string. For example, if you're given 3 as input, your function should return \"March\", because March is the 3rd month.\n",
    "\n",
    "def month(m):\n",
    "    months=[\"January\",\"February\",\"March\",\"April\",\"May\",\"June\",\"July\",\"August\",\"September\",\"October\",\"November\",\"December\"]\n",
    "    if 1<=m<=12:\n",
    "        return months[m-1]\n",
    "    else:\n",
    "        return \"invalid\""
   ]
  },
  {
   "cell_type": "code",
   "execution_count": 29,
   "id": "f485c280",
   "metadata": {},
   "outputs": [
    {
     "data": {
      "text/plain": [
       "'December'"
      ]
     },
     "execution_count": 29,
     "metadata": {},
     "output_type": "execute_result"
    }
   ],
   "source": [
    "month(12)"
   ]
  },
  {
   "cell_type": "code",
   "execution_count": 31,
   "id": "0b49fc8c",
   "metadata": {},
   "outputs": [],
   "source": [
    "#16 A bartender is writing a simple program to determine whether he should serve drinks to someone. He only serves drinks to people 18 and older and when he's not on break. Given the person's age, and whether break time is in session, create a function which returns whether he should serve drinks.\n",
    "\n",
    "def drinks(age):\n",
    "    if age>=18:\n",
    "        return \"should_serve_drinks,True\"\n",
    "    else:\n",
    "        return \"should_serve_drinks,False\""
   ]
  },
  {
   "cell_type": "code",
   "execution_count": 32,
   "id": "26f6b7fc",
   "metadata": {},
   "outputs": [
    {
     "name": "stdout",
     "output_type": "stream",
     "text": [
      "should_serve_drinks,True\n",
      "should_serve_drinks,False\n"
     ]
    }
   ],
   "source": [
    "print(drinks(26))\n",
    "print(drinks(17))\n"
   ]
  },
  {
   "cell_type": "code",
   "execution_count": 33,
   "id": "ac2cec44",
   "metadata": {},
   "outputs": [],
   "source": [
    "#17 You will need to write three unfinished logic gates. Continue to write the three logic gates: AND, OR, and NOT.\n",
    "\n",
    "def logical1(l,m):\n",
    "    if l==m==1 :\n",
    "        return 1\n",
    "    elif l==m==0:\n",
    "        return 0\n",
    "def logical2(l1,m1):\n",
    "    if l1==m1==1:\n",
    "        return 1\n",
    "    elif l1==1 or m1==0:\n",
    "        return 1\n",
    "def logical3(l2):\n",
    "    if l2!=0:\n",
    "        return 1\n",
    "    else:\n",
    "        return 0"
   ]
  },
  {
   "cell_type": "code",
   "execution_count": 34,
   "id": "d46fdb95",
   "metadata": {},
   "outputs": [
    {
     "name": "stdout",
     "output_type": "stream",
     "text": [
      "1\n",
      "0\n",
      "1\n",
      "1\n",
      "1\n",
      "0\n"
     ]
    }
   ],
   "source": [
    "print(logical1(1,1))\n",
    "print(logical1(0,0))\n",
    "print(logical2(1,1))\n",
    "print(logical2(1,0))\n",
    "print(logical3(1))\n",
    "print(logical3(0))"
   ]
  },
  {
   "cell_type": "code",
   "execution_count": 35,
   "id": "ffc303c9",
   "metadata": {},
   "outputs": [],
   "source": [
    "#18 Write a function that accepts base (decimal), height (decimal) and shape (\"triangle\", \"parallelogram\") as input and calculates the area of that shape.\n",
    "\n",
    "def area(base,height):\n",
    "    return 1/2*base*height\n",
    "def area1(base,height):\n",
    "     return base*height"
   ]
  },
  {
   "cell_type": "code",
   "execution_count": 36,
   "id": "e497bfc2",
   "metadata": {},
   "outputs": [
    {
     "name": "stdout",
     "output_type": "stream",
     "text": [
      "area of triangle is: 3.0\n",
      "area of parallelogram is: 48\n"
     ]
    }
   ],
   "source": [
    "print(\"area of triangle is:\",area(2,3))\n",
    "print(\"area of parallelogram is:\",area1(8,6))"
   ]
  },
  {
   "cell_type": "code",
   "execution_count": 37,
   "id": "4acaed9c",
   "metadata": {},
   "outputs": [],
   "source": [
    "#19 Create a function that takes a string (a random name). If the last character of the name is an \"n\", return True, otherwise return False.\n",
    "\n",
    "def s(name):\n",
    "    if name[-1]==\"n\":\n",
    "        return \"True\"\n",
    "    else:\n",
    "        return \"False\""
   ]
  },
  {
   "cell_type": "code",
   "execution_count": 38,
   "id": "1b8ce972",
   "metadata": {},
   "outputs": [
    {
     "name": "stdout",
     "output_type": "stream",
     "text": [
      "True\n",
      "False\n"
     ]
    }
   ],
   "source": [
    "print(s(\"cbwhdn\"))\n",
    "print(s(\"cbwhde\"))"
   ]
  },
  {
   "cell_type": "code",
   "execution_count": 39,
   "id": "dea019bc",
   "metadata": {},
   "outputs": [],
   "source": [
    "#20 Create a function that takes in a word and determines whether or not it is plural. A plural word is one that ends in \"s\".\n",
    "\n",
    "def plural(word):\n",
    "    if word[-1]==\"s\":\n",
    "        return \"True\"\n",
    "    else:\n",
    "        return \"False\""
   ]
  },
  {
   "cell_type": "code",
   "execution_count": 40,
   "id": "b95f9341",
   "metadata": {},
   "outputs": [
    {
     "name": "stdout",
     "output_type": "stream",
     "text": [
      "False\n",
      "True\n"
     ]
    }
   ],
   "source": [
    "print(plural(\"bat\"))\n",
    "print(plural(\"bats\"))"
   ]
  },
  {
   "cell_type": "code",
   "execution_count": 41,
   "id": "c45dc773",
   "metadata": {},
   "outputs": [],
   "source": [
    "#21 Create a function that takes a number as an argument and returns \"even\" for even numbers and \"odd\" for odd numbers.\n",
    "\n",
    "def f1(num):\n",
    "    if num%2==0:\n",
    "        return \"even\"\n",
    "    else:\n",
    "        return \"odd\""
   ]
  },
  {
   "cell_type": "code",
   "execution_count": 42,
   "id": "05feb6a1",
   "metadata": {},
   "outputs": [
    {
     "name": "stdout",
     "output_type": "stream",
     "text": [
      "odd\n",
      "even\n"
     ]
    }
   ],
   "source": [
    "print(f1(3))\n",
    "print(f1(8))"
   ]
  },
  {
   "cell_type": "code",
   "execution_count": 43,
   "id": "2e0246e4",
   "metadata": {},
   "outputs": [],
   "source": [
    "#15 Create a function that takes in a two-dimensional list and returns the number of sub-lists with only identical elements.\n",
    "\n",
    "def identical(lst):\n",
    "    count = 0\n",
    "    for sub_lst in lst:\n",
    "        if len(set(sub_lst)) == 1:\n",
    "            count += 1\n",
    "    return count"
   ]
  },
  {
   "cell_type": "code",
   "execution_count": 44,
   "id": "92f490e6",
   "metadata": {},
   "outputs": [
    {
     "name": "stdout",
     "output_type": "stream",
     "text": [
      "4\n",
      "1\n",
      "3\n"
     ]
    }
   ],
   "source": [
    "print(identical([[1], [2], [3], [4]]))           \n",
    "print(identical([[1, 2], [2, 3], [3, 4], [4, 4]]))             \n",
    "print(identical([[True, True, True], [False, False], [True]]))"
   ]
  },
  {
   "cell_type": "code",
   "execution_count": null,
   "id": "20a54571",
   "metadata": {},
   "outputs": [],
   "source": []
  }
 ],
 "metadata": {
  "kernelspec": {
   "display_name": "Python 3 (ipykernel)",
   "language": "python",
   "name": "python3"
  },
  "language_info": {
   "codemirror_mode": {
    "name": "ipython",
    "version": 3
   },
   "file_extension": ".py",
   "mimetype": "text/x-python",
   "name": "python",
   "nbconvert_exporter": "python",
   "pygments_lexer": "ipython3",
   "version": "3.10.9"
  }
 },
 "nbformat": 4,
 "nbformat_minor": 5
}
