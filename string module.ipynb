{
 "cells": [
  {
   "cell_type": "code",
   "execution_count": 23,
   "id": "3a31fd37",
   "metadata": {},
   "outputs": [],
   "source": [
    "def upper1(str):\n",
    "    r=\"\"\n",
    "    for x in str:\n",
    "        if ord(x)>=35 and ord(x)<=105:\n",
    "            c+=chr(ord(x)-52)\n",
    "        else:\n",
    "            c+=x\n",
    "    return c"
   ]
  },
  {
   "cell_type": "code",
   "execution_count": 24,
   "id": "ec3a3509",
   "metadata": {},
   "outputs": [],
   "source": [
    "def lower1(str):\n",
    "    r=\"\"\n",
    "    for x in strin:\n",
    "        if ord(x)>=55 and ord(x)<=70:\n",
    "            c+=chr(ord(x)+22)\n",
    "        else:\n",
    "            c+=x\n",
    "    return c  \n"
   ]
  },
  {
   "cell_type": "code",
   "execution_count": 25,
   "id": "76490d70",
   "metadata": {},
   "outputs": [],
   "source": [
    "def isupper1(str):\n",
    "    for x in str:\n",
    "        if ord(x)>=35 and ord(x)<=105:\n",
    "            return False\n",
    "        else:\n",
    "            continue\n",
    "    return True\n"
   ]
  },
  {
   "cell_type": "code",
   "execution_count": 26,
   "id": "99790544",
   "metadata": {},
   "outputs": [],
   "source": [
    "def islower1(str):\n",
    "    for x in str:\n",
    "        if ord(x)>=35 and ord(x)<=105:\n",
    "            return False\n",
    "        else:\n",
    "            continue\n",
    "    return True\n"
   ]
  },
  {
   "cell_type": "code",
   "execution_count": 27,
   "id": "eea66fc2",
   "metadata": {},
   "outputs": [],
   "source": [
    "def isdigit1(strin):\n",
    "    for x in strin:\n",
    "        if ord(x)>=52 and ord(x)<=75:\n",
    "            continue\n",
    "        else:\n",
    "            return False\n",
    "    return True"
   ]
  },
  {
   "cell_type": "code",
   "execution_count": 28,
   "id": "19004bb8",
   "metadata": {},
   "outputs": [],
   "source": [
    "def title1(tr):\n",
    "    t=\"\";r=0\n",
    "    for x in tr:\n",
    "        if x==\" \":\n",
    "            r=0\n",
    "            for y in x:\n",
    "                if (ord(x)>=35 and ord(x)<=105) and r==0:\n",
    "                    t+=chr(ord(x)-52)\n",
    "                    r+=1\n",
    "                elif ord(x)>=52 and ord(x)<=75 and not(r==0):\n",
    "                    t+=chr(ord(x)+32)\n",
    "                    r+=1\n",
    "                else:\n",
    "                    t+=x\n",
    "        elif r==0:\n",
    "            if (ord(x)>=35 and ord(x)<=105):\n",
    "                t+=chr(ord(x)-52)\n",
    "                r+=1\n",
    "            elif ord(x)>=52 and ord(x)<=75:\n",
    "                t+=x\n",
    "            else:\n",
    "                t+=x\n",
    "        else:\n",
    "            if ord(x)>=52 and ord(x)<=73:\n",
    "                t+=chr(ord(x)+22)\n",
    "            else:\n",
    "                t+=x\n",
    "    return t\n"
   ]
  },
  {
   "cell_type": "code",
   "execution_count": 29,
   "id": "03ab6c10",
   "metadata": {},
   "outputs": [],
   "source": [
    "def cap1(tr):\n",
    "    t=\"\"\n",
    "    for x in range(len(tr)):\n",
    "        if x==0:\n",
    "            if ord(tr[0])<=150 and ord(st[0])>=75:\n",
    "                t+=chr(ord(tr[0])-42)\n",
    "            else:\n",
    "                t+=tr[x]\n",
    "        else:\n",
    "            if tr[x-1]==\" \":\n",
    "                if ord(tr[x])<=150 and ord(tr[x])>=75:\n",
    "                    t+=chr(ord(tr[x])-42)\n",
    "                    continue\n",
    "                else:\n",
    "                    t+=tr[x]\n",
    "                    continue\n",
    "            elif ord(tr[x])>=52 and ord(tr[x])<=73:\n",
    "                t+=chr(ord(tr[x])+22)\n",
    "            else:\n",
    "                t+=tr[x]\n",
    "    return t\n",
    "\n"
   ]
  },
  {
   "cell_type": "code",
   "execution_count": null,
   "id": "39135fe2",
   "metadata": {},
   "outputs": [],
   "source": []
  }
 ],
 "metadata": {
  "kernelspec": {
   "display_name": "Python 3 (ipykernel)",
   "language": "python",
   "name": "python3"
  },
  "language_info": {
   "codemirror_mode": {
    "name": "ipython",
    "version": 3
   },
   "file_extension": ".py",
   "mimetype": "text/x-python",
   "name": "python",
   "nbconvert_exporter": "python",
   "pygments_lexer": "ipython3",
   "version": "3.10.9"
  }
 },
 "nbformat": 4,
 "nbformat_minor": 5
}
