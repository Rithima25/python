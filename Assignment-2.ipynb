{
 "cells": [
  {
   "cell_type": "code",
   "execution_count": 1,
   "id": "a1c7a51a",
   "metadata": {},
   "outputs": [
    {
     "name": "stdout",
     "output_type": "stream",
     "text": [
      "enter a number3\n",
      "enter the operator(*,/):*,/\n",
      "enter a number6\n",
      "0.5\n"
     ]
    }
   ],
   "source": [
    "#1) Write a program to accept two numbers from the user and calculate multiplication, division.\n",
    "x=int(input(\"enter a number\"))\n",
    "y=input(\"enter the operator(*,/):\")\n",
    "z=int(input(\"enter a number\"))\n",
    "if y==\"*\":\n",
    "    print(x*z)\n",
    "else:\n",
    "    print(x/z)\n",
    "        "
   ]
  },
  {
   "cell_type": "code",
   "execution_count": 2,
   "id": "64dcac75",
   "metadata": {},
   "outputs": [
    {
     "name": "stdout",
     "output_type": "stream",
     "text": [
      "Even_character:['R', 'L', 'A']\n"
     ]
    }
   ],
   "source": [
    "#2) Write a python program to print the characters from a string that are present at an even index.\n",
    "str=\"RTLLA\"\n",
    "even_characters=[]\n",
    "for i in range(len(str)):\n",
    "    if i%2==0:\n",
    "        even_characters.append(str[i])\n",
    "print('Even_character:{}'.format(even_characters))\n"
   ]
  },
  {
   "cell_type": "code",
   "execution_count": 3,
   "id": "53e9d8ed",
   "metadata": {},
   "outputs": [
    {
     "name": "stdout",
     "output_type": "stream",
     "text": [
      "Odd_characters;['T', 'L']\n"
     ]
    }
   ],
   "source": [
    "3#) Write a python program to print the characters from a string that are present at an odd index.\n",
    "str=\"RTLLA\"\n",
    "odd_characters=[]\n",
    "for i in range(len(str)):\n",
    "    if i%2!=0:\n",
    "        odd_characters.append(str[i])\n",
    "print('Odd_characters;{}'.format(odd_characters))        \n",
    "        \n",
    "    "
   ]
  },
  {
   "cell_type": "code",
   "execution_count": 4,
   "id": "29f84b00",
   "metadata": {},
   "outputs": [
    {
     "name": "stdout",
     "output_type": "stream",
     "text": [
      "enter the number:25\n",
      "enter the number:22\n",
      "47\n"
     ]
    }
   ],
   "source": [
    "#4) Write a python program which will print the sum of the two numbers if the two numbers are even or it will print the difference of two numbers\n",
    "x=int(input(\"enter the number:\"))\n",
    "y=int(input(\"enter the number:\"))\n",
    "if x%2==0 or y%2==0:\n",
    "    print(x+y)\n",
    "else:\n",
    "    print(x-y)\n",
    "    "
   ]
  },
  {
   "cell_type": "code",
   "execution_count": 1,
   "id": "9b4d4df8",
   "metadata": {},
   "outputs": [
    {
     "name": "stdout",
     "output_type": "stream",
     "text": [
      "enter the string:rtllab\n",
      "RtLlAb\n"
     ]
    }
   ],
   "source": [
    "#5) Write a python program to convert all even indexed alphabets to upper and odd indexed char.\n",
    "x=input(\"enter the string:\")\n",
    "z=list(x)\n",
    "y=0;a=\"\"\n",
    "while y<len(x):\n",
    "    if y%2==0:\n",
    "        z[y]=z[y].upper()\n",
    "    a+=str(z[y])\n",
    "    y+=1\n",
    "print(a)    \n"
   ]
  },
  {
   "cell_type": "code",
   "execution_count": 2,
   "id": "53197bcc",
   "metadata": {},
   "outputs": [
    {
     "name": "stdout",
     "output_type": "stream",
     "text": [
      "enter a number10\n",
      "True\n"
     ]
    }
   ],
   "source": [
    "#6) Write a python program which will print True if the inputnumber is divisible by 5 or else False.\n",
    "x=int(input(\"enter a number\"))\n",
    "if x%5==0:\n",
    "    print(\"True\")\n",
    "else:\n",
    "    print(\"Flase\")\n",
    "    "
   ]
  },
  {
   "cell_type": "code",
   "execution_count": 3,
   "id": "08d64542",
   "metadata": {},
   "outputs": [
    {
     "name": "stdout",
     "output_type": "stream",
     "text": [
      "enter a number:25\n",
      "enter a number:22\n",
      "47\n"
     ]
    }
   ],
   "source": [
    "#7) Given two integer numbers return their product only if the product is greater than 1000, else return their sum.\n",
    "x=int(input(\"enter a number:\"))\n",
    "y=int(input(\"enter a number:\"))\n",
    "if x*y>1000:\n",
    "    print(x*y)\n",
    "else:\n",
    "    print(x+y)\n",
    "    "
   ]
  },
  {
   "cell_type": "code",
   "execution_count": 5,
   "id": "e7cc1dfb",
   "metadata": {},
   "outputs": [
    {
     "name": "stdout",
     "output_type": "stream",
     "text": [
      "give a string x:joyful\n",
      "give a string y:days\n",
      "jdfyls\n"
     ]
    }
   ],
   "source": [
    "#8) Given two strings x, y writes a program to return a new string made of x and y’s first, middle, and last characters.\n",
    "x=input(\"give a string x:\")\n",
    "y=input(\"give a string y:\")\n",
    "z=x[0]+y[0]+x[len(x)//2]+y[len(y)//2]+x[-1]+y[-1]\n",
    "print(z)"
   ]
  },
  {
   "cell_type": "code",
   "execution_count": 11,
   "id": "f9422665",
   "metadata": {
    "scrolled": true
   },
   "outputs": [
    {
     "name": "stdout",
     "output_type": "stream",
     "text": [
      "enter a nameflower\n",
      "Name1: flower \n",
      "Name2: flower \n",
      "Name3: flower\n"
     ]
    }
   ],
   "source": [
    "#9) Write a python program to take three names as input from a user in the single input () function call.\n",
    "x=input(\"enter a name\")\n",
    "for y in range(0,4):\n",
    "    a=x.split(\",\")\n",
    "print(\"Name1:\",a[0],\"\\n\" \"Name2:\",a[0],\"\\n\"\"Name3:\",a[0])\n",
    "                                                "
   ]
  },
  {
   "cell_type": "code",
   "execution_count": 4,
   "id": "ff64c610",
   "metadata": {},
   "outputs": [
    {
     "name": "stdout",
     "output_type": "stream",
     "text": [
      "enter a string:tata\n",
      "ta@a\n"
     ]
    }
   ],
   "source": [
    " #10) Write a Python program to get a string from a given string where all occurrences of its first char have been changed to '@', except the first char itself\n",
    "x=input(\"enter a string:\")\n",
    "a=x[0]\n",
    " for y in range(1,len(x)):\n",
    "    if x[y]==x[0]:\n",
    "        a+=\"@\"\n",
    "    else:\n",
    "        a+=x[y]\n",
    "print(a)         \n",
    "            "
   ]
  },
  {
   "cell_type": "code",
   "execution_count": null,
   "id": "7d38e621",
   "metadata": {},
   "outputs": [],
   "source": [
    "#11) Write a Python program to add 'ing' at the end of a given string (string length should be equal to or more than 3). If the given string already ends with 'ing' then add 'ly' instead. If the string length of the given string is less than 3, leave it unchanged\n",
    "x=input(\"give a string\")\n",
    "a=\"\"\n",
    "if len(x)>3:\n",
    "    if x[-3:]==\"ing\":\n",
    "        a+=x[4:-1]+x[-3:].replace(\"ing\",\"ly\")\n",
    "        print(a)\n",
    "    else:\n",
    "        a+=x+\"ing\"\n",
    "        print(a)\n",
    "if len(x)>3:\n",
    "    print(x)\n",
    "        "
   ]
  },
  {
   "cell_type": "code",
   "execution_count": 1,
   "id": "5d8eb077",
   "metadata": {},
   "outputs": [
    {
     "name": "stdout",
     "output_type": "stream",
     "text": [
      "ente numb1:3\n",
      "enter num2:6\n",
      "Flase\n"
     ]
    }
   ],
   "source": [
    "#12) Write a python program that accepts two inputs num1 and num2 print True if one of them is 10 or if their sum is 10otherwise print False\n",
    "x=int(input(\"ente numb1:\"))\n",
    "y=int(input(\"enter num2:\"))\n",
    "if x==5 or y==5 or x+y==10:\n",
    "    print(\"True\")\n",
    "else:\n",
    "    print(\"Flase\")"
   ]
  },
  {
   "cell_type": "code",
   "execution_count": 3,
   "id": "69b03d34",
   "metadata": {},
   "outputs": [
    {
     "name": "stdout",
     "output_type": "stream",
     "text": [
      "enter num1:3\n",
      "enter num2:6\n",
      "enter num3:12\n",
      "True\n"
     ]
    }
   ],
   "source": [
    "1#3) Write a python program that accepts three inputs x, y and z print True if x*y>z otherwise False\n",
    "x=int(input(\"enter num1:\"))\n",
    "y=int(input(\"enter num2:\"))\n",
    "z=int(input(\"enter num3:\"))\n",
    "if x*y>z:\n",
    "    print(\"True\")\n",
    "else:\n",
    "    print(\"Flase\")"
   ]
  },
  {
   "cell_type": "code",
   "execution_count": 6,
   "id": "63d5dd9a",
   "metadata": {},
   "outputs": [
    {
     "name": "stdout",
     "output_type": "stream",
     "text": [
      "enter a str1:abcde\n",
      "enter a str2:fghij\n",
      "True\n"
     ]
    }
   ],
   "source": [
    "#14) Write a python program that accepts two strings inputs return True depending on whether the total number of  in the first string is equal to the total number of characters in the second string\n",
    "x=input(\"enter a str1:\")\n",
    "y=input(\"enter a str2:\")\n",
    "if len(x)==len(y):\n",
    "    print(\"True\")\n",
    "else:\n",
    "    print(\"False\")"
   ]
  },
  {
   "cell_type": "code",
   "execution_count": 7,
   "id": "abc0131b",
   "metadata": {},
   "outputs": [
    {
     "name": "stdout",
     "output_type": "stream",
     "text": [
      "give a string:working\n",
      "workingworworwor\n"
     ]
    }
   ],
   "source": [
    "1#5) Write a python program that takes a string input, we'll say that the front is the first three characters of the string. If h string length is less than three characters, the front is whatever is there. Return a new string, which is three copies of the front\n",
    "x=input(\"give a string:\")\n",
    "if len(x)<3:\n",
    "    print(x)\n",
    "else:\n",
    "    print(x+x[:3]*3)"
   ]
  },
  {
   "cell_type": "code",
   "execution_count": 8,
   "id": "a70eb311",
   "metadata": {},
   "outputs": [
    {
     "data": {
      "text/plain": [
       "True"
      ]
     },
     "execution_count": 8,
     "metadata": {},
     "output_type": "execute_result"
    }
   ],
   "source": [
    "1#6) Write a python program that takes in a word and determines whether or not it is plural. A plural word is one ends in \"s\".\n",
    "x=\"flowers\"\n",
    "x.endswith(\"s\")"
   ]
  },
  {
   "cell_type": "code",
   "execution_count": 9,
   "id": "754e4340",
   "metadata": {},
   "outputs": [
    {
     "name": "stdout",
     "output_type": "stream",
     "text": [
      "tell me your age:30\n",
      "whether on break or not in True or False:true\n",
      "should not serve\n"
     ]
    }
   ],
   "source": [
    "#17) A bartender is writing a simple program to determine whether he should serve drinks to someone. He only serves drinks to people 18 and older and when he's not on break(True means break and False means not a break time). Given the person's age, and whether break time is in session, create a python program which prints whether he should serve drinks or not\n",
    "x=int(input(\"tell me your age:\"))\n",
    "y=input(\"whether on break or not in True or False:\")\n",
    "if x>18 and y==\"false\":\n",
    "    print(\"should serve the drink\")\n",
    "else:\n",
    "    print(\"should not serve\")"
   ]
  },
  {
   "cell_type": "code",
   "execution_count": 12,
   "id": "ba9301f5",
   "metadata": {},
   "outputs": [
    {
     "name": "stdout",
     "output_type": "stream",
     "text": [
      "give the person name:tarun\n",
      "Relation is Brother\n"
     ]
    }
   ],
   "source": [
    "#18) Manoj Kumar has family and friends. Help him remind them who is who. Given a string with a name, return the relation of that person to Manoj \n",
    "person=\"shiva,letha,Tarun,Ravi\"\n",
    "relation=\"Father,mother,brother,brother\"\n",
    "x=input(\"give the person name:\")\n",
    "if x==person[:5]:\n",
    "    print(\"Relation is Father\")\n",
    "elif x==person[6:11]:\n",
    "    print(\"Relation is Mother\")\n",
    "elif x==person[12:17]:\n",
    "    print(\"Relation is Brother\")\n",
    "else:\n",
    "    print(\"Relation is Brother\")\n",
    "    \n",
    "    "
   ]
  },
  {
   "cell_type": "code",
   "execution_count": null,
   "id": "dfdafc44",
   "metadata": {},
   "outputs": [],
   "source": []
  },
  {
   "cell_type": "code",
   "execution_count": null,
   "id": "b5cbcfa6",
   "metadata": {},
   "outputs": [],
   "source": []
  },
  {
   "cell_type": "code",
   "execution_count": null,
   "id": "122aaf32",
   "metadata": {},
   "outputs": [],
   "source": []
  }
 ],
 "metadata": {
  "kernelspec": {
   "display_name": "Python 3 (ipykernel)",
   "language": "python",
   "name": "python3"
  },
  "language_info": {
   "codemirror_mode": {
    "name": "ipython",
    "version": 3
   },
   "file_extension": ".py",
   "mimetype": "text/x-python",
   "name": "python",
   "nbconvert_exporter": "python",
   "pygments_lexer": "ipython3",
   "version": "3.10.9"
  }
 },
 "nbformat": 4,
 "nbformat_minor": 5
}
